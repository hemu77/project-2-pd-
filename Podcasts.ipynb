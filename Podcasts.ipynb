{
 "cells": [
  {
   "cell_type": "markdown",
   "id": "a8d8d4a7",
   "metadata": {},
   "source": [
    "# Download and Transcribe podcasts:\n"
   ]
  },
  {
   "cell_type": "markdown",
   "id": "3ec2360e",
   "metadata": {},
   "source": [
    "->Download multiple podcasts:------------------------------"
   ]
  },
  {
   "cell_type": "code",
   "execution_count": 11,
   "id": "65864d01",
   "metadata": {},
   "outputs": [],
   "source": [
    "import requests\n",
    "import os\n",
    "import re\n",
    "from bs4 import BeautifulSoup\n",
    "import dateutil.parser"
   ]
  },
  {
   "cell_type": "code",
   "execution_count": 13,
   "id": "f3956bce",
   "metadata": {},
   "outputs": [],
   "source": [
    "rss_feeds = {'Dave Ramsey': 'https://feeds.megaphone.fm/RM4031649020', \n",
    "             'Huberman-Lab': 'https://feeds.megaphone.fm/hubermanlab',\n",
    "             'Peter Attia MD': 'https://peterattiadrive.libsyn.com/rss',\n",
    "             'Tim Ferriss Show': 'https://rss.art19.com/tim-ferriss-show',}"
   ]
  },
  {
   "cell_type": "code",
   "execution_count": 14,
   "id": "5d27f353",
   "metadata": {},
   "outputs": [
    {
     "name": "stdout",
     "output_type": "stream",
     "text": [
      "https://feeds.megaphone.fm/RM4031649020\n",
      "https://feeds.megaphone.fm/hubermanlab\n",
      "https://peterattiadrive.libsyn.com/rss\n",
      "https://rss.art19.com/tim-ferriss-show\n"
     ]
    }
   ],
   "source": [
    "for value in rss_feeds.values():\n",
    "    print(value)"
   ]
  },
  {
   "cell_type": "code",
   "execution_count": 16,
   "id": "d6688b7d",
   "metadata": {},
   "outputs": [],
   "source": [
    "podcast = 'Tim Ferriss Show'\n",
    "page = requests.get(rss_feeds[podcast])\n",
    "soup = BeautifulSoup(page.text, 'xml')"
   ]
  },
  {
   "cell_type": "code",
   "execution_count": 17,
   "id": "dd99dcc8",
   "metadata": {},
   "outputs": [],
   "source": [
    "def get_all_podcast_items(rss_feeds):\n",
    "    all_items = []\n",
    "    for value in rss_feeds.values():\n",
    "        page = requests.get(value)\n",
    "        all_items += BeautifulSoup(page.text, 'xml').find_all('item')\n",
    "        \n",
    "    return all_items"
   ]
  },
  {
   "cell_type": "code",
   "execution_count": 18,
   "id": "4865c991",
   "metadata": {},
   "outputs": [],
   "source": [
    "all_items = get_all_podcast_items(rss_feeds)"
   ]
  },
  {
   "cell_type": "code",
   "execution_count": 19,
   "id": "e13cd260",
   "metadata": {},
   "outputs": [],
   "source": [
    "podcast_items = soup.find_all('item')\n",
    "episodes = [podcast.find('enclosure')['url'] for podcast in podcast_items]\n",
    "titles = [podcast.find('title').text for podcast in podcast_items]\n",
    "dates = [podcast.find('pubDate').text for podcast in podcast_items]"
   ]
  },
  {
   "cell_type": "code",
   "execution_count": 20,
   "id": "f73c16e1",
   "metadata": {},
   "outputs": [],
   "source": [
    "def parse_date(date):\n",
    "    return dateutil.parser.parse(date).strftime('%b-%d-%Y') # Add _%H%M for safety"
   ]
  },
  {
   "cell_type": "code",
   "execution_count": 21,
   "id": "955440c6",
   "metadata": {},
   "outputs": [],
   "source": [
    "def get_episodes(podcast_items, search=None, limit=5):\n",
    "    output = []\n",
    "    for podcast in podcast_items:\n",
    "        if len(output) == limit:\n",
    "            break\n",
    "        elif search is not None:\n",
    "            if re.search(search, podcast.find('description').text, re.I):\n",
    "                output.append(podcast)\n",
    "        else:\n",
    "            output.append(podcast)\n",
    "    \n",
    "    return output\n",
    "\n",
    "def get_episode_metadata(podcast_items):\n",
    "    episode_urls = [podcast.find('enclosure')['url'] for podcast in podcast_items]\n",
    "    episode_titles = [podcast.find('title').text for podcast in podcast_items]\n",
    "    episode_release_dates = [parse_date(podcast.find('pubDate').text) for podcast in podcast_items]\n",
    "    return list(zip(episode_urls, episode_titles, episode_release_dates))"
   ]
  },
  {
   "cell_type": "code",
   "execution_count": 22,
   "id": "6ba3a0ee",
   "metadata": {},
   "outputs": [],
   "source": [
    "#items = get_episodes(all_items, 'ketamine', limit=5)\n",
    "metadata = get_episode_metadata(podcast_items)\n",
    "urls, titles, release_dates = zip(*metadata)"
   ]
  },
  {
   "cell_type": "code",
   "execution_count": 23,
   "id": "e2c70107",
   "metadata": {},
   "outputs": [],
   "source": [
    "# import datetime\n",
    "\n",
    "# datetime.datetime.strptime(dates[0], '%a, %d %b %Y %X %f').strftime('%y')"
   ]
  },
  {
   "cell_type": "code",
   "execution_count": 25,
   "id": "d7a9f3a4",
   "metadata": {},
   "outputs": [],
   "source": [
    "EPISODE_COUNT = 10"
   ]
  },
  {
   "cell_type": "code",
   "execution_count": 26,
   "id": "6dcbd307",
   "metadata": {},
   "outputs": [
    {
     "name": "stdout",
     "output_type": "stream",
     "text": [
      "Dec-16-2022\n",
      "Dec-13-2022\n",
      "Dec-09-2022\n",
      "Dec-05-2022\n",
      "Dec-01-2022\n",
      "Nov-28-2022\n",
      "Nov-24-2022\n",
      "Nov-18-2022\n",
      "Nov-18-2022\n",
      "Nov-15-2022\n"
     ]
    }
   ],
   "source": [
    "path = f'./podcasts/{podcast}'\n",
    "if not os.path.exists(path):\n",
    "    os.mkdir(path)\n",
    "\n",
    "for i in range(EPISODE_COUNT):\n",
    "    episode_url = episodes[i]\n",
    "    redirect_url = requests.get(episode_url).url\n",
    "    results = requests.get(redirect_url)\n",
    "    file_name = release_dates[i]\n",
    "\n",
    "    print(file_name)\n",
    "    with open(f'{path}/{file_name}.mp3', 'wb') as f:\n",
    "        f.write(results.content)\n",
    "        \n",
    "#     print('---')\n",
    "#     print(titles[i])\n",
    "#     #file_name = re.sub(r'[/\\.\\\\]', '', titles[i])[:100]\n",
    "#     file_name = titles[i].replace('/','-').replace('\\\\','-').replace('.',' ')[:100]"
   ]
  },
  {
   "cell_type": "markdown",
   "id": "bff031a0",
   "metadata": {},
   "source": [
    "# Transcribe podcasts:"
   ]
  },
  {
   "cell_type": "code",
   "execution_count": 27,
   "id": "1f91be79",
   "metadata": {},
   "outputs": [],
   "source": [
    "def read_file(filename, chunk_size=5242880):\n",
    "    with open(filename, 'rb') as _file:\n",
    "        while True:\n",
    "            data = _file.read(chunk_size)\n",
    "            if not data:\n",
    "                break\n",
    "            yield data"
   ]
  },
  {
   "cell_type": "code",
   "execution_count": 30,
   "id": "4e8a880f",
   "metadata": {},
   "outputs": [],
   "source": [
    "headers = {'authorization': os.environ['ASSEMBLY_AI_KEY']}\n",
    "\n",
    "urls = []\n",
    "files = f'./downloads/{podcast}'\n",
    "file_names = os.listdir(files)\n",
    "for file in file_names:\n",
    "    filename = f'{files}/{file}'\n",
    "    response = requests.post('https://api.assemblyai.com/v2/upload',\n",
    "                            headers=headers,\n",
    "                            data=read_file(filename))\n",
    "    \n",
    "    urls.append(response.json())\n",
    "    "
   ]
  },
  {
   "cell_type": "code",
   "execution_count": 31,
   "id": "15bbc452",
   "metadata": {},
   "outputs": [
    {
     "data": {
      "text/plain": [
       "[{'upload_url': 'https://cdn.assemblyai.com/upload/6bd8320b-c7cd-4b47-a105-b314c19c42a3'},\n",
       " {'upload_url': 'https://cdn.assemblyai.com/upload/e92b8182-8c50-4dd1-b41a-bdcee4e30137'},\n",
       " {'upload_url': 'https://cdn.assemblyai.com/upload/a20a0f15-b9f6-4597-a63f-f65ba5172510'},\n",
       " {'upload_url': 'https://cdn.assemblyai.com/upload/3982ce96-8a94-4949-ae9a-671fe548dbd0'},\n",
       " {'upload_url': 'https://cdn.assemblyai.com/upload/50ae52fb-1339-4a33-bb09-fbeccf13a412'},\n",
       " {'upload_url': 'https://cdn.assemblyai.com/upload/76d6cd87-bf8d-4c11-85ed-df8640c62504'},\n",
       " {'upload_url': 'https://cdn.assemblyai.com/upload/6034fa35-86b3-42c9-a58b-291227e9a779'},\n",
       " {'upload_url': 'https://cdn.assemblyai.com/upload/c3904fba-35b4-49e9-9ad6-d436e1526bc2'},\n",
       " {'upload_url': 'https://cdn.assemblyai.com/upload/4db10690-f48a-428b-8cdd-37d3c10325ad'}]"
      ]
     },
     "execution_count": 31,
     "metadata": {},
     "output_type": "execute_result"
    }
   ],
   "source": [
    "urls"
   ]
  },
  {
   "cell_type": "code",
   "execution_count": 37,
   "id": "eba51ecd",
   "metadata": {},
   "outputs": [
    {
     "name": "stdout",
     "output_type": "stream",
     "text": [
      "Transcription # 0\n",
      "<Response [200]>\n",
      "Transcription # 1\n",
      "<Response [200]>\n",
      "Transcription # 2\n",
      "<Response [200]>\n",
      "Transcription # 3\n",
      "<Response [200]>\n",
      "Transcription # 4\n",
      "<Response [200]>\n",
      "Transcription # 5\n",
      "<Response [200]>\n",
      "Transcription # 6\n",
      "<Response [200]>\n",
      "Transcription # 7\n",
      "<Response [200]>\n",
      "Transcription # 8\n",
      "<Response [200]>\n"
     ]
    }
   ],
   "source": [
    "count=0\n",
    "output_ids = []\n",
    "for url in urls:\n",
    "    print(\"Transcription #\", count)\n",
    "    endpoint = \"https://api.assemblyai.com/v2/transcript\"\n",
    "    json = {\n",
    "        \"audio_url\": url['upload_url'],\n",
    "        \"audio_start_from\": 300000,\n",
    "        \"audio_end_at\": 600000,\n",
    "    }\n",
    "    headers = {\n",
    "        \"authorization\": os.environ['ASSEMBLY_AI_KEY'],\n",
    "        \"content-type\": \"application/json\"\n",
    "    }\n",
    "    response = requests.post(endpoint, json=json, headers=headers)\n",
    "    print(response)\n",
    "    output_ids.append(response.json()['id'])\n",
    "    count+=1"
   ]
  },
  {
   "cell_type": "code",
   "execution_count": 42,
   "id": "f338b763",
   "metadata": {},
   "outputs": [
    {
     "name": "stdout",
     "output_type": "stream",
     "text": [
      "None\n"
     ]
    },
    {
     "ename": "TypeError",
     "evalue": "write() argument must be str, not None",
     "output_type": "error",
     "traceback": [
      "\u001b[1;31m---------------------------------------------------------------------------\u001b[0m",
      "\u001b[1;31mTypeError\u001b[0m                                 Traceback (most recent call last)",
      "\u001b[1;32m~\\AppData\\Local\\Temp\\ipykernel_11960\\794249561.py\u001b[0m in \u001b[0;36m<module>\u001b[1;34m\u001b[0m\n\u001b[0;32m      9\u001b[0m     \u001b[0mraw_text\u001b[0m \u001b[1;33m=\u001b[0m \u001b[0mresponse\u001b[0m\u001b[1;33m.\u001b[0m\u001b[0mjson\u001b[0m\u001b[1;33m(\u001b[0m\u001b[1;33m)\u001b[0m\u001b[1;33m[\u001b[0m\u001b[1;34m'text'\u001b[0m\u001b[1;33m]\u001b[0m\u001b[1;33m\u001b[0m\u001b[1;33m\u001b[0m\u001b[0m\n\u001b[0;32m     10\u001b[0m     \u001b[1;32mwith\u001b[0m \u001b[0mopen\u001b[0m\u001b[1;33m(\u001b[0m\u001b[1;34mf'./transcripts/{tid}.txt'\u001b[0m\u001b[1;33m,\u001b[0m \u001b[1;34m'w'\u001b[0m\u001b[1;33m)\u001b[0m \u001b[1;32mas\u001b[0m \u001b[0mf\u001b[0m\u001b[1;33m:\u001b[0m\u001b[1;33m\u001b[0m\u001b[1;33m\u001b[0m\u001b[0m\n\u001b[1;32m---> 11\u001b[1;33m         \u001b[0mf\u001b[0m\u001b[1;33m.\u001b[0m\u001b[0mwrite\u001b[0m\u001b[1;33m(\u001b[0m\u001b[0mraw_text\u001b[0m\u001b[1;33m)\u001b[0m\u001b[1;33m\u001b[0m\u001b[1;33m\u001b[0m\u001b[0m\n\u001b[0m",
      "\u001b[1;31mTypeError\u001b[0m: write() argument must be str, not None"
     ]
    }
   ],
   "source": [
    "path = './transcripts'\n",
    "if not os.path.exists(path):\n",
    "    os.mkdir(path)\n",
    "\n",
    "for tid in output_ids:\n",
    "    transcript_url = f'https://api.assemblyai.com/v2/transcript/{tid}'\n",
    "    response = requests.get(transcript_url, headers=headers)\n",
    "    print(response.json()['text'])\n",
    "    raw_text = response.json()['text']\n",
    "    with open(f'./transcripts/{tid}.txt', 'w') as f:\n",
    "        f.write(raw_text)"
   ]
  },
  {
   "cell_type": "code",
   "execution_count": 44,
   "id": "10f4c4a0",
   "metadata": {},
   "outputs": [],
   "source": [
    "#Transcripted output will be stored in that transcripts directory.."
   ]
  },
  {
   "cell_type": "code",
   "execution_count": null,
   "id": "64a09f01",
   "metadata": {},
   "outputs": [],
   "source": []
  },
  {
   "cell_type": "code",
   "execution_count": null,
   "id": "e5d82423",
   "metadata": {},
   "outputs": [],
   "source": []
  },
  {
   "cell_type": "code",
   "execution_count": null,
   "id": "86f16ea7",
   "metadata": {},
   "outputs": [],
   "source": []
  },
  {
   "cell_type": "code",
   "execution_count": null,
   "id": "e13ff4b5",
   "metadata": {},
   "outputs": [],
   "source": []
  },
  {
   "cell_type": "code",
   "execution_count": null,
   "id": "0f6ae10f",
   "metadata": {},
   "outputs": [],
   "source": []
  },
  {
   "cell_type": "code",
   "execution_count": null,
   "id": "1728176c",
   "metadata": {},
   "outputs": [],
   "source": []
  }
 ],
 "metadata": {
  "kernelspec": {
   "display_name": "Python 3 (ipykernel)",
   "language": "python",
   "name": "python3"
  },
  "language_info": {
   "codemirror_mode": {
    "name": "ipython",
    "version": 3
   },
   "file_extension": ".py",
   "mimetype": "text/x-python",
   "name": "python",
   "nbconvert_exporter": "python",
   "pygments_lexer": "ipython3",
   "version": "3.9.13"
  }
 },
 "nbformat": 4,
 "nbformat_minor": 5
}
